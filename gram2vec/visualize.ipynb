{
 "cells": [
  {
   "cell_type": "markdown",
   "metadata": {},
   "source": [
    "# Visualization notebook\n",
    "\n",
    "\n",
    "\n",
    "## Imports and functions"
   ]
  },
  {
   "cell_type": "code",
   "execution_count": 2,
   "metadata": {},
   "outputs": [],
   "source": [
    "import utils\n",
    "from sklearn.decomposition import PCA\n",
    "from sklearn.manifold import TSNE\n",
    "import matplotlib.pyplot as plt\n",
    "import seaborn as sns\n",
    "import numpy as np\n",
    "import pandas as pd\n",
    "import warnings\n",
    "import spacy\n",
    "from copy import deepcopy\n",
    "warnings.filterwarnings(\"ignore\", category=FutureWarning)\n",
    "%matplotlib inline\n",
    "\n",
    "# 1,071,477 authors"
   ]
  },
  {
   "cell_type": "markdown",
   "metadata": {},
   "source": [
    "# Exploring MUD"
   ]
  },
  {
   "cell_type": "code",
   "execution_count": 28,
   "metadata": {},
   "outputs": [
    {
     "name": "stdout",
     "output_type": "stream",
     "text": [
      "519\n"
     ]
    }
   ],
   "source": [
    "import ijson\n",
    "import sqlite3\n",
    "import random\n",
    "\n",
    "data = ijson.parse(open(\"data/mud/full/raw_mud/raw_all/data.jsonl\"), multiple_values=True)\n",
    "\n",
    "i = 0\n",
    "num_authors = 100\n",
    "\n",
    "d = {}\n",
    "posts = []\n",
    "for prefix, event, value in data:\n",
    "    \n",
    "    if prefix == \"syms.item\":\n",
    "        posts.append(value)\n",
    "        \n",
    "    if prefix.startswith(\"author_id\"):\n",
    "        d[value] = posts\n",
    "        posts = []\n",
    "        i += 1\n",
    "\n",
    "    if i == num_authors:\n",
    "        break\n",
    "\n",
    "\n",
    "\n",
    "author = random.choice(list(d.keys()))\n",
    "\n",
    "\n",
    "save = {author:d[author]}\n",
    "print(len(d[author]))\n",
    "\n",
    "utils.save_json(save, \"example_author.json\")\n",
    "\n"
   ]
  },
  {
   "cell_type": "code",
   "execution_count": 29,
   "metadata": {},
   "outputs": [
    {
     "data": {
      "text/plain": [
       "[('This', 'AUX'),\n",
       " ('is', 'DET'),\n",
       " ('a', 'NOUN'),\n",
       " ('string', 'CCONJ'),\n",
       " ('and', 'PRON'),\n",
       " ('I', 'VERB'),\n",
       " ('eat', 'NOUN'),\n",
       " ('ice', 'NOUN'),\n",
       " ('cream', 'PUNCT'),\n",
       " ('!', 'PUNCT'),\n",
       " ('!', 'PUNCT')]"
      ]
     },
     "execution_count": 29,
     "metadata": {},
     "output_type": "execute_result"
    }
   ],
   "source": [
    "nlp = utils.load_spacy(\"en_core_web_md\")\n",
    "\n",
    "text = \"This is a string and I eat ice cream!!!\"\n",
    "doc = nlp(text)\n",
    "\n",
    "tokens = [token.text for token in doc]\n",
    "pos = [token.pos_ for token in doc]\n",
    "assert len(tokens) == len(pos)\n",
    "\n",
    "l = []\n",
    "for i, token in enumerate(tokens):\n",
    "    try:\n",
    "        l.append((token, pos[i+1]))\n",
    "    except:\n",
    "        pass\n",
    "    \n",
    "# replace open class with tags\n",
    "l"
   ]
  },
  {
   "cell_type": "code",
   "execution_count": 3,
   "metadata": {},
   "outputs": [
    {
     "name": "stdout",
     "output_type": "stream",
     "text": [
      "['This', 'string', 'has', 'four', 'sentences', '.', 'This', 'previous', 'sentence', 'is', 'false', '.', 'That', 'next', 'sentence', 'is', 'true', '!', 'I', 'like', 'cats']\n"
     ]
    }
   ],
   "source": [
    "nlp = utils.load_spacy(\"en_core_web_md\")\n",
    "\n",
    "\n",
    "doc = nlp(\"This string has four sentences. This previous sentence is false. That next sentence is true! I like cats\")\n",
    "\n",
    "sent_spans = [(sent.start, sent.end) for sent in doc.sents]\n",
    "pos = [token.pos_ for token in doc]\n",
    "\n"
   ]
  },
  {
   "cell_type": "code",
   "execution_count": 6,
   "metadata": {},
   "outputs": [
    {
     "name": "stdout",
     "output_type": "stream",
     "text": [
      "['BOS', 'This', 'string', 'has', 'four', 'sentences', '.', 'EOS', 'BOS', 'This', 'previous', 'sentence', 'is', 'false', '.', 'EOS', 'BOS', 'That', 'next', 'sentence', 'is', 'true', '!', 'EOS', 'BOS', 'I', 'like', 'cats', 'EOS']\n"
     ]
    }
   ],
   "source": [
    "\n",
    "\n",
    "def insert_boundaries(indices:list[tuple], tokens:list):\n",
    "    \"\"\"\n",
    "    This function inserts sentence boundaries to a list of tokens \n",
    "    according to a list of (START, END) sentence index markers\n",
    "    \n",
    "    Works by enumerating the tokens and checking if each position \n",
    "    is the start or end of a sentence, inserting the appropriate tag when\n",
    "    \"\"\"\n",
    "   \n",
    "    new_tokens = []\n",
    "    for i, item in enumerate(tokens):\n",
    "        for start, end in indices:\n",
    "            if i == start:\n",
    "                new_tokens.append(\"BOS\")\n",
    "            elif i == end:\n",
    "                new_tokens.append(\"EOS\")    \n",
    "        new_tokens.append(item)\n",
    "    new_tokens.append(\"EOS\")  \n",
    "        \n",
    "    return new_tokens\n",
    "        \n",
    "    \n",
    "\n",
    "print(insert_boundaries(sent_spans, tokens))\n"
   ]
  },
  {
   "cell_type": "code",
   "execution_count": 7,
   "metadata": {},
   "outputs": [
    {
     "data": {
      "text/plain": [
       "[2, 3, 1, 4, 2, 1, 1]"
      ]
     },
     "execution_count": 7,
     "metadata": {},
     "output_type": "execute_result"
    }
   ],
   "source": []
  },
  {
   "cell_type": "code",
   "execution_count": null,
   "metadata": {},
   "outputs": [],
   "source": []
  }
 ],
 "metadata": {
  "kernelspec": {
   "display_name": "Python 3 (ipykernel)",
   "language": "python",
   "name": "python3"
  },
  "language_info": {
   "codemirror_mode": {
    "name": "ipython",
    "version": 3
   },
   "file_extension": ".py",
   "mimetype": "text/x-python",
   "name": "python",
   "nbconvert_exporter": "python",
   "pygments_lexer": "ipython3",
   "version": "3.10.6"
  },
  "vscode": {
   "interpreter": {
    "hash": "39816ae5e1dd6efcfe0b7efe22b855e119119f64616b7b0086574424de20bb02"
   }
  }
 },
 "nbformat": 4,
 "nbformat_minor": 2
}
