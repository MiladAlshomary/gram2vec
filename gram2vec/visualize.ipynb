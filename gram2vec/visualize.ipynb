{
 "cells": [
  {
   "cell_type": "markdown",
   "metadata": {},
   "source": [
    "# Visualization notebook\n",
    "\n",
    "\n",
    "\n",
    "## Imports and functions"
   ]
  },
  {
   "cell_type": "code",
   "execution_count": 1,
   "metadata": {},
   "outputs": [],
   "source": [
    "import utils\n",
    "from sklearn.decomposition import PCA\n",
    "from sklearn.manifold import TSNE\n",
    "import matplotlib.pyplot as plt\n",
    "import seaborn as sns\n",
    "import numpy as np\n",
    "import pandas as pd\n",
    "import warnings\n",
    "import spacy\n",
    "from spacy import Language\n",
    "warnings.filterwarnings(\"ignore\", category=FutureWarning)\n",
    "%matplotlib inline\n",
    "\n",
    "# 1,071,477 authors"
   ]
  },
  {
   "cell_type": "markdown",
   "metadata": {},
   "source": [
    "# Exploring MUD"
   ]
  },
  {
   "cell_type": "code",
   "execution_count": 28,
   "metadata": {},
   "outputs": [
    {
     "name": "stdout",
     "output_type": "stream",
     "text": [
      "519\n"
     ]
    }
   ],
   "source": [
    "import ijson\n",
    "import sqlite3\n",
    "import random\n",
    "\n",
    "data = ijson.parse(open(\"data/mud/full/raw_mud/raw_all/data.jsonl\"), multiple_values=True)\n",
    "\n",
    "i = 0\n",
    "num_authors = 100\n",
    "\n",
    "d = {}\n",
    "posts = []\n",
    "for prefix, event, value in data:\n",
    "    \n",
    "    if prefix == \"syms.item\":\n",
    "        posts.append(value)\n",
    "        \n",
    "    if prefix.startswith(\"author_id\"):\n",
    "        d[value] = posts\n",
    "        posts = []\n",
    "        i += 1\n",
    "\n",
    "    if i == num_authors:\n",
    "        break\n",
    "\n",
    "\n",
    "\n",
    "author = random.choice(list(d.keys()))\n",
    "\n",
    "\n",
    "save = {author:d[author]}\n",
    "print(len(d[author]))\n",
    "\n",
    "utils.save_json(save, \"example_author.json\")\n",
    "\n"
   ]
  },
  {
   "cell_type": "code",
   "execution_count": 29,
   "metadata": {},
   "outputs": [
    {
     "data": {
      "text/plain": [
       "[('This', 'AUX'),\n",
       " ('is', 'DET'),\n",
       " ('a', 'NOUN'),\n",
       " ('string', 'CCONJ'),\n",
       " ('and', 'PRON'),\n",
       " ('I', 'VERB'),\n",
       " ('eat', 'NOUN'),\n",
       " ('ice', 'NOUN'),\n",
       " ('cream', 'PUNCT'),\n",
       " ('!', 'PUNCT'),\n",
       " ('!', 'PUNCT')]"
      ]
     },
     "execution_count": 29,
     "metadata": {},
     "output_type": "execute_result"
    }
   ],
   "source": [
    "nlp = utils.load_spacy(\"en_core_web_md\")\n",
    "\n",
    "text = \"This is a string and I eat ice cream!!!\"\n",
    "doc = nlp(text)\n",
    "\n",
    "tokens = [token.text for token in doc]\n",
    "pos = [token.pos_ for token in doc]\n",
    "assert len(tokens) == len(pos)\n",
    "\n",
    "l = []\n",
    "for i, token in enumerate(tokens):\n",
    "    try:\n",
    "        l.append((token, pos[i+1]))\n",
    "    except:\n",
    "        pass\n",
    "    \n",
    "# replace open class with tags\n",
    "l"
   ]
  },
  {
   "cell_type": "code",
   "execution_count": 17,
   "metadata": {},
   "outputs": [
    {
     "data": {
      "text/plain": [
       "array([ True,  True,  True,  True,  True,  True,  True,  True,  True,\n",
       "        True,  True,  True,  True,  True,  True,  True,  True,  True,\n",
       "        True,  True,  True,  True,  True,  True,  True,  True,  True,\n",
       "        True,  True,  True,  True,  True,  True,  True,  True,  True,\n",
       "        True,  True,  True,  True,  True,  True,  True,  True,  True,\n",
       "        True,  True,  True,  True,  True,  True,  True,  True,  True,\n",
       "        True,  True,  True,  True,  True,  True,  True,  True,  True,\n",
       "        True,  True,  True,  True,  True,  True,  True,  True,  True,\n",
       "        True,  True,  True,  True,  True,  True,  True,  True,  True,\n",
       "        True,  True,  True,  True,  True,  True,  True,  True,  True,\n",
       "        True,  True,  True,  True,  True,  True,  True,  True,  True,\n",
       "        True,  True,  True,  True,  True,  True,  True,  True,  True,\n",
       "        True,  True,  True,  True,  True,  True,  True,  True,  True,\n",
       "        True,  True,  True,  True,  True,  True,  True,  True,  True,\n",
       "        True,  True,  True,  True,  True,  True,  True,  True,  True,\n",
       "        True,  True,  True,  True,  True,  True,  True,  True,  True,\n",
       "        True,  True,  True,  True,  True,  True,  True,  True,  True,\n",
       "        True,  True,  True,  True,  True,  True,  True,  True,  True,\n",
       "        True,  True,  True,  True,  True,  True,  True,  True,  True,\n",
       "        True,  True,  True,  True,  True,  True,  True,  True,  True,\n",
       "        True,  True,  True,  True,  True,  True,  True,  True,  True,\n",
       "        True,  True,  True,  True,  True,  True,  True,  True,  True,\n",
       "        True,  True,  True,  True,  True,  True,  True,  True,  True,\n",
       "        True,  True,  True,  True,  True,  True,  True,  True,  True,\n",
       "        True,  True,  True,  True,  True,  True,  True,  True,  True,\n",
       "        True,  True,  True,  True,  True,  True,  True,  True,  True,\n",
       "        True,  True,  True,  True,  True,  True,  True,  True,  True,\n",
       "        True,  True,  True,  True,  True,  True,  True,  True,  True,\n",
       "        True,  True,  True,  True,  True,  True,  True,  True,  True,\n",
       "        True,  True,  True,  True,  True,  True,  True,  True,  True,\n",
       "        True,  True,  True,  True,  True,  True,  True,  True,  True,\n",
       "        True,  True,  True,  True,  True,  True,  True,  True,  True,\n",
       "        True,  True,  True,  True,  True,  True,  True,  True,  True,\n",
       "        True,  True,  True])"
      ]
     },
     "execution_count": 17,
     "metadata": {},
     "output_type": "execute_result"
    }
   ],
   "source": [
    "from spacy import displacy\n",
    "nlp = utils.load_spacy(\"en_core_web_md\")\n",
    "\n",
    "text = \"\"\"This is a sentence. I was wondering whether he and I should go to the park?\"\"\"\n",
    "doc = nlp(text)\n",
    "\n",
    "labels = nlp.pipe_labels[\"parser\"]\n",
    "\n",
    "\n",
    "vecs = []\n",
    "for token in doc:\n",
    "    vecs.append(token.vector)\n",
    "\n",
    "np.mean(vecs, axis=0) == doc.vector\n"
   ]
  },
  {
   "cell_type": "code",
   "execution_count": 16,
   "metadata": {},
   "outputs": [
    {
     "data": {
      "text/plain": [
       "array([-2.2731838e+00,  3.6058960e+00, -3.3113937e+00, -1.8773474e+00,\n",
       "        8.3632797e-01,  6.1170608e-01,  4.9491775e-01,  4.3823366e+00,\n",
       "       -1.8666888e+00,  2.4825881e+00,  6.9578261e+00,  2.0415430e+00,\n",
       "       -2.3739080e+00,  4.6799946e-01,  1.5287519e+00,  1.4221318e+00,\n",
       "        1.7235076e+00, -2.1763837e+00, -2.4344490e+00, -2.0245967e+00,\n",
       "        2.3184450e+00, -7.3679447e-01, -7.5279333e-02, -1.6977003e+00,\n",
       "       -2.4081812e+00, -2.4943292e+00, -3.8142602e+00, -1.5184183e+00,\n",
       "       -1.8877225e+00,  1.2409444e+00,  4.3822724e-01, -9.6723175e-01,\n",
       "       -7.7480084e-01, -2.4900723e-01, -1.6841015e+00, -4.1133888e-02,\n",
       "       -2.2853963e-01,  2.1446007e-01,  2.7201877e+00,  1.0776255e+00,\n",
       "       -1.3120370e+00,  1.7148088e+00,  1.7439364e+00, -1.4167073e+00,\n",
       "       -6.4397687e-01,  1.8910664e+00,  5.0272059e-01, -4.8849506e+00,\n",
       "       -1.5670620e+00,  2.5801084e+00, -3.6327058e-01,  4.4041723e-01,\n",
       "        1.2711728e+00, -4.5869837e+00, -1.0297160e+00, -1.4488143e+00,\n",
       "        1.5392796e+00,  4.7734389e-01,  1.8771894e+00,  1.3767881e+00,\n",
       "        2.5051312e+00, -2.7746854e+00, -1.0358293e+00, -1.6180778e+00,\n",
       "        2.4669062e-01, -4.1615028e-02, -3.1678379e+00, -4.1916213e+00,\n",
       "        1.8727862e+00,  4.3862057e+00, -5.2602753e-02,  3.9405757e-01,\n",
       "       -6.6716629e-01, -1.6856172e+00,  1.6894517e+00,  2.2142911e+00,\n",
       "       -3.9835324e+00,  2.0731940e+00, -4.4923306e+00, -2.5362067e+00,\n",
       "       -4.6606002e+00, -4.6511036e-01,  2.9400029e+00, -2.2171730e-01,\n",
       "        1.9928652e+00,  8.4405556e-02, -1.0335397e+00, -7.8097397e-01,\n",
       "        2.7495084e+00, -1.8900408e+00, -2.6775059e-01, -1.8999324e+00,\n",
       "        2.3745852e+00, -5.7673626e+00,  2.5869932e+00, -1.3972080e+00,\n",
       "        1.6832180e-01, -1.4611748e+00,  1.3700004e+00, -6.7263097e-01,\n",
       "        1.3447082e+00,  2.1191330e+00,  2.9792566e+00,  2.5279348e+00,\n",
       "       -2.8129017e+00,  2.0750945e+00, -1.3219811e+00, -9.7491944e-01,\n",
       "       -2.5485945e+00, -1.7485538e+00, -7.7240109e-01,  6.7231506e-02,\n",
       "        3.4240946e-01,  2.0739429e+00,  1.3260962e+00,  5.2752107e-01,\n",
       "       -8.1722277e-01, -1.3167799e+00,  1.7851950e+00,  1.3058345e-01,\n",
       "       -1.7376171e+00, -4.2319913e+00, -2.8872199e+00,  3.4405873e+00,\n",
       "       -1.0161133e+00, -3.3904946e+00,  2.7908177e+00, -1.3939917e+00,\n",
       "        1.2024599e+00, -8.0597836e-01, -2.6646881e+00, -9.0809321e-01,\n",
       "        3.3332682e+00, -2.9210250e+00, -6.5178752e-02,  4.3973237e-01,\n",
       "       -7.3389113e-01, -1.4627756e+00,  5.9716778e+00, -3.7686551e+00,\n",
       "       -3.9261427e+00, -1.7198795e+00,  1.4385495e+00,  2.0244150e+00,\n",
       "       -1.4165988e+00,  8.3055806e-01, -3.6610680e+00, -6.2358546e-01,\n",
       "       -1.7865423e+00, -4.4662836e-01, -1.7459490e+00,  3.0241632e+00,\n",
       "        5.2409828e-01,  5.2215767e-01, -1.0122013e+00,  1.0546556e+00,\n",
       "        5.0311565e+00,  1.3755200e+00, -1.8147302e+00, -7.3092365e-01,\n",
       "       -2.0575056e+00, -5.1205664e+00, -1.9363872e+00,  1.7906649e+00,\n",
       "       -2.8272278e+00, -8.7863225e-01, -4.5471554e+00,  2.6206214e+00,\n",
       "       -8.5334641e-01, -1.0333018e+00,  2.7773278e+00, -2.5665058e-02,\n",
       "        1.0618000e+00,  2.1626902e+00,  4.1683369e+00, -3.3233767e+00,\n",
       "       -1.7313216e+00, -1.7290921e+00, -2.0765591e+00, -1.2667412e+00,\n",
       "       -9.2862010e-01,  7.9044062e-01,  2.9016817e+00, -2.0848073e-01,\n",
       "       -2.1067100e+00,  1.2216594e+00, -1.4290246e+00, -2.4594970e+00,\n",
       "        2.7950735e+00,  3.2303300e+00, -1.4966567e+00, -4.1546497e-01,\n",
       "       -2.2869658e+00, -2.1331830e-01, -5.7186562e-01, -8.3814120e-01,\n",
       "       -3.7226322e+00,  1.2587161e+00, -1.4224038e+00,  2.1412630e+00,\n",
       "       -1.9766803e+00, -9.5495182e-01, -1.0384232e+00, -3.2609856e+00,\n",
       "        7.5564176e-01, -1.7329031e-01, -1.0930661e+00, -8.1325060e-01,\n",
       "       -2.3923104e+00, -8.7270457e-01,  1.0662311e+00,  1.4371345e+00,\n",
       "       -3.9228395e-01,  4.5138335e+00, -9.0663886e-01,  1.9230832e+00,\n",
       "       -1.1786025e+00, -4.4220766e-01, -9.8898441e-01,  6.8566376e-01,\n",
       "       -4.2625890e+00, -5.4433590e-01,  8.9165969e-03,  8.7401778e-01,\n",
       "       -6.4038175e-01, -2.3330019e+00,  1.2955096e+00,  3.6194839e+00,\n",
       "        1.8778899e+00,  8.9422947e-01, -1.4971017e+00, -4.4168816e+00,\n",
       "       -1.4775349e-01,  1.7508378e+00, -4.2098224e-01,  1.4158394e+00,\n",
       "       -3.4618692e+00,  2.3674984e+00, -9.5771003e-01, -1.0120989e+00,\n",
       "       -2.8333249e+00,  1.3573630e+00,  2.4290369e+00, -4.6413388e-02,\n",
       "       -6.3679832e-01,  6.5154386e-01, -1.8257266e+00,  1.1642172e+00,\n",
       "        3.0266390e+00,  2.7300606e+00, -5.0723743e-01, -1.3776295e+00,\n",
       "       -7.1803885e+00, -3.7629980e-01, -4.6022913e-01, -1.9744835e+00,\n",
       "        1.7420995e+00,  4.9892679e-01, -1.2623460e+00,  1.0648062e+00,\n",
       "        7.2775722e-01,  5.1570644e+00,  4.1016483e+00,  4.9579616e+00,\n",
       "        1.5791984e+00, -1.3316244e+00,  1.2826337e-01,  2.3548708e+00,\n",
       "       -5.4365082e+00,  7.8412408e-01, -3.7907341e-01, -1.9617119e+00,\n",
       "       -3.2682524e+00, -2.2897348e+00,  1.3459215e-01, -1.5055013e+00,\n",
       "        1.5152249e+00, -8.7296158e-01, -1.1494166e+00,  2.0847490e+00,\n",
       "       -3.7851131e+00, -2.3867912e+00, -1.4021264e-01,  1.8420168e+00,\n",
       "        6.8057027e+00, -6.4132720e-01,  1.6496117e+00,  1.3384538e+00,\n",
       "       -2.5025284e+00,  8.6076730e-01,  1.6141641e+00, -4.4946063e-01,\n",
       "        1.7283034e+00,  3.7058195e-04, -1.3762271e+00,  8.5899663e-01,\n",
       "        1.0422457e+00,  1.4073255e+00, -4.3321781e+00,  2.4650314e+00],\n",
       "      dtype=float32)"
      ]
     },
     "execution_count": 16,
     "metadata": {},
     "output_type": "execute_result"
    }
   ],
   "source": [
    "doc.vector"
   ]
  },
  {
   "cell_type": "code",
   "execution_count": 48,
   "metadata": {},
   "outputs": [
    {
     "name": "stdout",
     "output_type": "stream",
     "text": [
      "['ROOT', 'acl', 'acomp', 'advcl', 'advmod', 'agent', 'amod', 'appos', 'attr', 'aux', 'auxpass', 'case', 'cc', 'ccomp', 'compound', 'conj', 'csubj', 'csubjpass', 'dative', 'dep', 'det', 'dobj', 'expl', 'intj', 'mark', 'meta', 'neg', 'nmod', 'npadvmod', 'nsubj', 'nsubjpass', 'nummod', 'oprd', 'parataxis', 'pcomp', 'pobj', 'poss', 'preconj', 'predet', 'prep', 'prt', 'punct', 'quantmod', 'relcl', 'xcomp']\n"
     ]
    }
   ],
   "source": [
    "\"string\"\n",
    "\n",
    "\"st\", \"sr\", \"si\", \"sn\", \"sg\", \"tr\" ..."
   ]
  },
  {
   "cell_type": "code",
   "execution_count": null,
   "metadata": {},
   "outputs": [],
   "source": []
  }
 ],
 "metadata": {
  "kernelspec": {
   "display_name": "Python 3 (ipykernel)",
   "language": "python",
   "name": "python3"
  },
  "language_info": {
   "codemirror_mode": {
    "name": "ipython",
    "version": 3
   },
   "file_extension": ".py",
   "mimetype": "text/x-python",
   "name": "python",
   "nbconvert_exporter": "python",
   "pygments_lexer": "ipython3",
   "version": "3.10.6"
  },
  "vscode": {
   "interpreter": {
    "hash": "39816ae5e1dd6efcfe0b7efe22b855e119119f64616b7b0086574424de20bb02"
   }
  }
 },
 "nbformat": 4,
 "nbformat_minor": 2
}
