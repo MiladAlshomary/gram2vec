{
 "cells": [
  {
   "attachments": {},
   "cell_type": "markdown",
   "metadata": {},
   "source": [
    "# Visualization notebook\n",
    "\n",
    "This notebook is meant for visualizing stuff and testing code. "
   ]
  },
  {
   "cell_type": "code",
   "execution_count": 7,
   "metadata": {},
   "outputs": [],
   "source": [
    "import numpy as np\n",
    "import pandas as pd\n",
    "import os\n",
    "import warnings\n",
    "import matplotlib.pyplot as plt\n",
    "import seaborn as sns\n",
    "import json\n",
    "from nltk import Tree\n",
    "from spacy import displacy\n",
    "import spacy\n",
    "from dataclasses import dataclass\n",
    "from nltk.tokenize import word_tokenize\n",
    "from collections import defaultdict, Counter\n",
    "from featurizers import GrammarVectorizer, make_document\n",
    "from contextlib import contextmanager\n",
    "warnings.filterwarnings(\"ignore\", category=FutureWarning)"
   ]
  },
  {
   "cell_type": "code",
   "execution_count": 11,
   "metadata": {},
   "outputs": [],
   "source": [
    "@contextmanager\n",
    "def temp_change_dir(path:str):\n",
    "    \"\"\"Changes to a new directory specified by given path, and then reverts back to the old directory\"\"\"\n",
    "    oldpwd = os.getcwd()\n",
    "    os.chdir(path)\n",
    "    try:\n",
    "        yield\n",
    "    finally:\n",
    "        os.chdir(oldpwd)\n",
    "        \n",
    "def load_pan22() -> pd.DataFrame:\n",
    "    \"\"\"Loads PAN22 data as a dataframe\"\"\"\n",
    "    with temp_change_dir(\"../../\"):\n",
    "        return pd.read_json(\"data/pan22/preprocessed/pan22_preprocessed.jsonl\", lines=True)"
   ]
  },
  {
   "cell_type": "code",
   "execution_count": 19,
   "metadata": {},
   "outputs": [],
   "source": [
    "pan = load_pan22()\n",
    "pan_docs = pan[\"fullText\"]\n",
    "\n",
    "g2v = GrammarVectorizer()\n",
    "DVs = g2v.vectorize_episode(pan_docs.to_list(), return_obj=True)"
   ]
  },
  {
   "cell_type": "code",
   "execution_count": 26,
   "metadata": {},
   "outputs": [
    {
     "name": "stdout",
     "output_type": "stream",
     "text": [
      "['pos_unigrams', 'pos_bigrams', 'func_words', 'punc', 'letters', 'common_emojis', 'document_stats', 'dep_labels', 'mixed_bigrams', 'morph_tags']\n"
     ]
    }
   ],
   "source": [
    "dv1= DVs[0]\n",
    "\n",
    "def get_tabular_dataset(dvs) -> pd.DataFrame:\n",
    "    \"\"\"Applies feature vectors to a list of documents and stores everything in a DataFrame\"\"\"\n",
    "    \n",
    "    \n",
    "    featurizer_names = g2v.get_config()\n",
    "\n",
    "    for dv in dvs:\n",
    "        \n",
    "    \n",
    "    \n",
    "\n",
    "    \n",
    "get_tabular_dataset(DVs)\n",
    "    "
   ]
  },
  {
   "cell_type": "code",
   "execution_count": null,
   "metadata": {},
   "outputs": [],
   "source": []
  }
 ],
 "metadata": {
  "kernelspec": {
   "display_name": "Python 3 (ipykernel)",
   "language": "python",
   "name": "python3"
  },
  "language_info": {
   "codemirror_mode": {
    "name": "ipython",
    "version": 3
   },
   "file_extension": ".py",
   "mimetype": "text/x-python",
   "name": "python",
   "nbconvert_exporter": "python",
   "pygments_lexer": "ipython3",
   "version": "3.11.3"
  },
  "vscode": {
   "interpreter": {
    "hash": "8426aeb6a0394c95a6dca738b4382d3e4f73a60ab3fca776cba99777e8eb1027"
   }
  }
 },
 "nbformat": 4,
 "nbformat_minor": 2
}
