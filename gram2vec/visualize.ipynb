{
 "cells": [
  {
   "attachments": {},
   "cell_type": "markdown",
   "metadata": {},
   "source": [
    "# Visualization notebook\n",
    "\n",
    "\n",
    "\n",
    "## Imports and functions"
   ]
  },
  {
   "cell_type": "code",
   "execution_count": 7,
   "metadata": {},
   "outputs": [],
   "source": [
    "import utils\n",
    "from sklearn.decomposition import PCA\n",
    "from sklearn.manifold import TSNE\n",
    "import matplotlib.pyplot as plt\n",
    "import seaborn as sns\n",
    "import numpy as np\n",
    "import pandas as pd\n",
    "import warnings\n",
    "import spacy\n",
    "from spacy import Language\n",
    "warnings.filterwarnings(\"ignore\", category=FutureWarning)\n",
    "%matplotlib inline\n",
    "\n",
    "# 1,071,477 authors"
   ]
  },
  {
   "attachments": {},
   "cell_type": "markdown",
   "metadata": {},
   "source": [
    "# Exploring MUD"
   ]
  },
  {
   "cell_type": "code",
   "execution_count": 90,
   "metadata": {},
   "outputs": [],
   "source": [
    "import ijson\n",
    "import sqlite3\n",
    "import random\n",
    "\n",
    "data = ijson.parse(open(\"data/mud/full/raw_mud/raw_all/data.jsonl\"),multiple_values=True)\n",
    "\n",
    "x = 0\n",
    "d = {}\n",
    "posts = []\n",
    "for prefix, event, value in data:\n",
    "    \n",
    "    if prefix == \"syms.item\":\n",
    "        posts.append(value)\n",
    "        \n",
    "    if prefix.startswith(\"author_id\"):\n",
    "        d[value] = posts\n",
    "        posts = []\n",
    "        x += 1\n",
    "\n",
    "    if x == 30:\n",
    "        break\n",
    "\n",
    "\n",
    "\n",
    "author = random.choice(list(d.keys()))\n",
    "\n",
    "\n",
    "save = {author:d[author]}\n",
    "print(len(d[author]))\n",
    "\n",
    "utils.save_json(save, \"example_author.json\")"
   ]
  },
  {
   "cell_type": "code",
   "execution_count": 23,
   "metadata": {},
   "outputs": [
    {
     "data": {
      "text/plain": [
       "[('tok2vec', <spacy.pipeline.tok2vec.Tok2Vec at 0x7fcf5b7ed060>),\n",
       " ('tagger', <spacy.pipeline.tagger.Tagger at 0x7fcf5b7ecfa0>),\n",
       " ('boundary_syms', <function __main__.boundary_sym_pipe(doc)>),\n",
       " ('parser', <spacy.pipeline.dep_parser.DependencyParser at 0x7fcf6dcd7840>),\n",
       " ('attribute_ruler',\n",
       "  <spacy.pipeline.attributeruler.AttributeRuler at 0x7fcf5c4cf640>),\n",
       " ('lemmatizer',\n",
       "  <spacy.lang.en.lemmatizer.EnglishLemmatizer at 0x7fcf610d0a00>),\n",
       " ('ner', <spacy.pipeline.ner.EntityRecognizer at 0x7fcf6dcd77d0>)]"
      ]
     },
     "execution_count": 23,
     "metadata": {},
     "output_type": "execute_result"
    }
   ],
   "source": [
    "@Language.component(\"boundary_syms\")\n",
    "def boundary_sym_pipe(doc):\n",
    "    for token in doc:\n",
    "        if token.text == \"$\":\n",
    "            token.pos_ = \"[BOS]\"\n",
    "        elif token.text == \"[EOS]\":\n",
    "            token.pos_ = \"[EOS]\"\n",
    "    return doc\n",
    "\n",
    "\n",
    "\n",
    "nlp = spacy.load(\"en_core_web_md\")\n",
    "nlp.add_pipe(\"boundary_syms\", after=\"tagger\")\n",
    "\n",
    "nlp.pipeline"
   ]
  },
  {
   "cell_type": "code",
   "execution_count": 24,
   "metadata": {},
   "outputs": [
    {
     "ename": "ValueError",
     "evalue": "[E1021] `pos` value \"[BOS]\" is not a valid Universal Dependencies tag. Non-UD tags should use the `tag` property.",
     "output_type": "error",
     "traceback": [
      "\u001b[0;31m---------------------------------------------------------------------------\u001b[0m",
      "\u001b[0;31mValueError\u001b[0m                                Traceback (most recent call last)",
      "Cell \u001b[0;32mIn[24], line 2\u001b[0m\n\u001b[1;32m      1\u001b[0m text \u001b[39m=\u001b[39m \u001b[39m\"\u001b[39m\u001b[39m$ This is a string!!! [EOS]\u001b[39m\u001b[39m\"\u001b[39m\n\u001b[0;32m----> 2\u001b[0m doc \u001b[39m=\u001b[39m nlp(text)\n\u001b[1;32m      4\u001b[0m \u001b[39mfor\u001b[39;00m token \u001b[39min\u001b[39;00m doc:\n\u001b[1;32m      5\u001b[0m     \u001b[39mprint\u001b[39m(token\u001b[39m.\u001b[39mtext, token\u001b[39m.\u001b[39mpos_)\n",
      "File \u001b[0;32m~/python/gram2vec/.venv/lib/python3.10/site-packages/spacy/language.py:1031\u001b[0m, in \u001b[0;36mLanguage.__call__\u001b[0;34m(self, text, disable, component_cfg)\u001b[0m\n\u001b[1;32m   1029\u001b[0m     \u001b[39mraise\u001b[39;00m \u001b[39mValueError\u001b[39;00m(Errors\u001b[39m.\u001b[39mE109\u001b[39m.\u001b[39mformat(name\u001b[39m=\u001b[39mname)) \u001b[39mfrom\u001b[39;00m \u001b[39me\u001b[39;00m\n\u001b[1;32m   1030\u001b[0m \u001b[39mexcept\u001b[39;00m \u001b[39mException\u001b[39;00m \u001b[39mas\u001b[39;00m e:\n\u001b[0;32m-> 1031\u001b[0m     error_handler(name, proc, [doc], e)\n\u001b[1;32m   1032\u001b[0m \u001b[39mif\u001b[39;00m \u001b[39mnot\u001b[39;00m \u001b[39misinstance\u001b[39m(doc, Doc):\n\u001b[1;32m   1033\u001b[0m     \u001b[39mraise\u001b[39;00m \u001b[39mValueError\u001b[39;00m(Errors\u001b[39m.\u001b[39mE005\u001b[39m.\u001b[39mformat(name\u001b[39m=\u001b[39mname, returned_type\u001b[39m=\u001b[39m\u001b[39mtype\u001b[39m(doc)))\n",
      "File \u001b[0;32m~/python/gram2vec/.venv/lib/python3.10/site-packages/spacy/util.py:1670\u001b[0m, in \u001b[0;36mraise_error\u001b[0;34m(proc_name, proc, docs, e)\u001b[0m\n\u001b[1;32m   1669\u001b[0m \u001b[39mdef\u001b[39;00m \u001b[39mraise_error\u001b[39m(proc_name, proc, docs, e):\n\u001b[0;32m-> 1670\u001b[0m     \u001b[39mraise\u001b[39;00m e\n",
      "File \u001b[0;32m~/python/gram2vec/.venv/lib/python3.10/site-packages/spacy/language.py:1026\u001b[0m, in \u001b[0;36mLanguage.__call__\u001b[0;34m(self, text, disable, component_cfg)\u001b[0m\n\u001b[1;32m   1024\u001b[0m     error_handler \u001b[39m=\u001b[39m proc\u001b[39m.\u001b[39mget_error_handler()\n\u001b[1;32m   1025\u001b[0m \u001b[39mtry\u001b[39;00m:\n\u001b[0;32m-> 1026\u001b[0m     doc \u001b[39m=\u001b[39m proc(doc, \u001b[39m*\u001b[39;49m\u001b[39m*\u001b[39;49mcomponent_cfg\u001b[39m.\u001b[39;49mget(name, {}))  \u001b[39m# type: ignore[call-arg]\u001b[39;00m\n\u001b[1;32m   1027\u001b[0m \u001b[39mexcept\u001b[39;00m \u001b[39mKeyError\u001b[39;00m \u001b[39mas\u001b[39;00m e:\n\u001b[1;32m   1028\u001b[0m     \u001b[39m# This typically happens if a component is not initialized\u001b[39;00m\n\u001b[1;32m   1029\u001b[0m     \u001b[39mraise\u001b[39;00m \u001b[39mValueError\u001b[39;00m(Errors\u001b[39m.\u001b[39mE109\u001b[39m.\u001b[39mformat(name\u001b[39m=\u001b[39mname)) \u001b[39mfrom\u001b[39;00m \u001b[39me\u001b[39;00m\n",
      "Cell \u001b[0;32mIn[23], line 5\u001b[0m, in \u001b[0;36mboundary_sym_pipe\u001b[0;34m(doc)\u001b[0m\n\u001b[1;32m      3\u001b[0m \u001b[39mfor\u001b[39;00m token \u001b[39min\u001b[39;00m doc:\n\u001b[1;32m      4\u001b[0m     \u001b[39mif\u001b[39;00m token\u001b[39m.\u001b[39mtext \u001b[39m==\u001b[39m \u001b[39m\"\u001b[39m\u001b[39m$\u001b[39m\u001b[39m\"\u001b[39m:\n\u001b[0;32m----> 5\u001b[0m         token\u001b[39m.\u001b[39;49mpos_ \u001b[39m=\u001b[39m \u001b[39m\"\u001b[39m\u001b[39m[BOS]\u001b[39m\u001b[39m\"\u001b[39m\n\u001b[1;32m      6\u001b[0m     \u001b[39melif\u001b[39;00m token\u001b[39m.\u001b[39mtext \u001b[39m==\u001b[39m \u001b[39m\"\u001b[39m\u001b[39m[EOS]\u001b[39m\u001b[39m\"\u001b[39m:\n\u001b[1;32m      7\u001b[0m         token\u001b[39m.\u001b[39mpos_ \u001b[39m=\u001b[39m \u001b[39m\"\u001b[39m\u001b[39m[EOS]\u001b[39m\u001b[39m\"\u001b[39m\n",
      "File \u001b[0;32m~/python/gram2vec/.venv/lib/python3.10/site-packages/spacy/tokens/token.pyx:873\u001b[0m, in \u001b[0;36mspacy.tokens.token.Token.pos_.__set__\u001b[0;34m()\u001b[0m\n",
      "\u001b[0;31mValueError\u001b[0m: [E1021] `pos` value \"[BOS]\" is not a valid Universal Dependencies tag. Non-UD tags should use the `tag` property."
     ]
    }
   ],
   "source": [
    "text = \"$ This is a string!!! [EOS]\"\n",
    "doc = nlp(text)\n",
    "\n",
    "for token in doc:\n",
    "    print(token.text, token.pos_)"
   ]
  },
  {
   "cell_type": "code",
   "execution_count": null,
   "metadata": {},
   "outputs": [],
   "source": []
  },
  {
   "cell_type": "code",
   "execution_count": null,
   "metadata": {},
   "outputs": [],
   "source": []
  }
 ],
 "metadata": {
  "kernelspec": {
   "display_name": ".venv",
   "language": "python",
   "name": "python3"
  },
  "language_info": {
   "codemirror_mode": {
    "name": "ipython",
    "version": 3
   },
   "file_extension": ".py",
   "mimetype": "text/x-python",
   "name": "python",
   "nbconvert_exporter": "python",
   "pygments_lexer": "ipython3",
   "version": "3.10.6"
  },
  "orig_nbformat": 4,
  "vscode": {
   "interpreter": {
    "hash": "39816ae5e1dd6efcfe0b7efe22b855e119119f64616b7b0086574424de20bb02"
   }
  }
 },
 "nbformat": 4,
 "nbformat_minor": 2
}
