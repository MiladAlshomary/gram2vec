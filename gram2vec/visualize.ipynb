{
 "cells": [
  {
   "attachments": {},
   "cell_type": "markdown",
   "metadata": {},
   "source": [
    "# Visualization notebook\n",
    "\n",
    "This notebook is meant for visualizing stuff and testing code. \n",
    "\n",
    "\n",
    "## Imports and functions"
   ]
  },
  {
   "cell_type": "code",
   "execution_count": 4,
   "metadata": {},
   "outputs": [],
   "source": [
    "import utils\n",
    "from sklearn.decomposition import PCA\n",
    "from sklearn.manifold import TSNE\n",
    "import plotly.express as px\n",
    "from pathlib import Path\n",
    "import numpy as np\n",
    "import pandas as pd\n",
    "import warnings\n",
    "import spacy\n",
    "import json\n",
    "from nltk import bigrams\n",
    "from pathlib import Path\n",
    "from collections import Counter\n",
    "import re\n",
    "warnings.filterwarnings(\"ignore\", category=FutureWarning)\n",
    "%matplotlib inline\n",
    "\n",
    "# MUD: 1,071,477 authors"
   ]
  },
  {
   "attachments": {},
   "cell_type": "markdown",
   "metadata": {},
   "source": [
    "### Plotting by bin"
   ]
  },
  {
   "cell_type": "code",
   "execution_count": 40,
   "metadata": {},
   "outputs": [
    {
     "data": {
      "application/vnd.plotly.v1+json": {
       "config": {
        "plotlyServerURL": "https://plot.ly"
       },
       "data": [
        {
         "hovertemplate": "variable=half_features<br>bin=%{x}<br>value=%{y}<extra></extra>",
         "legendgroup": "half_features",
         "line": {
          "color": "#636efa",
          "dash": "solid"
         },
         "marker": {
          "symbol": "circle"
         },
         "mode": "lines+markers",
         "name": "half_features",
         "orientation": "v",
         "showlegend": true,
         "type": "scatter",
         "x": [
          "1",
          "2",
          "3",
          "4",
          "5",
          "6",
          "7",
          "8"
         ],
         "xaxis": "x",
         "y": [
          0,
          0.02857142857142857,
          0.08571428571428572,
          0.11428571428571428,
          0.22857142857142856,
          0.22857142857142856,
          0.22857142857142856,
          0.4
         ],
         "yaxis": "y"
        },
        {
         "hovertemplate": "variable=all_features<br>bin=%{x}<br>value=%{y}<extra></extra>",
         "legendgroup": "all_features",
         "line": {
          "color": "#EF553B",
          "dash": "solid"
         },
         "marker": {
          "symbol": "circle"
         },
         "mode": "lines+markers",
         "name": "all_features",
         "orientation": "v",
         "showlegend": true,
         "type": "scatter",
         "x": [
          "1",
          "2",
          "3",
          "4",
          "5",
          "6",
          "7",
          "8"
         ],
         "xaxis": "x",
         "y": [
          0,
          0.05714285714285714,
          0.11428571428571428,
          0.17142857142857143,
          0.2,
          0.2,
          0.2857142857142857,
          0.5428571428571428
         ],
         "yaxis": "y"
        }
       ],
       "layout": {
        "legend": {
         "title": {
          "text": "variable"
         },
         "tracegroupgap": 0
        },
        "margin": {
         "t": 60
        },
        "template": {
         "data": {
          "bar": [
           {
            "error_x": {
             "color": "#f2f5fa"
            },
            "error_y": {
             "color": "#f2f5fa"
            },
            "marker": {
             "line": {
              "color": "rgb(17,17,17)",
              "width": 0.5
             },
             "pattern": {
              "fillmode": "overlay",
              "size": 10,
              "solidity": 0.2
             }
            },
            "type": "bar"
           }
          ],
          "barpolar": [
           {
            "marker": {
             "line": {
              "color": "rgb(17,17,17)",
              "width": 0.5
             },
             "pattern": {
              "fillmode": "overlay",
              "size": 10,
              "solidity": 0.2
             }
            },
            "type": "barpolar"
           }
          ],
          "carpet": [
           {
            "aaxis": {
             "endlinecolor": "#A2B1C6",
             "gridcolor": "#506784",
             "linecolor": "#506784",
             "minorgridcolor": "#506784",
             "startlinecolor": "#A2B1C6"
            },
            "baxis": {
             "endlinecolor": "#A2B1C6",
             "gridcolor": "#506784",
             "linecolor": "#506784",
             "minorgridcolor": "#506784",
             "startlinecolor": "#A2B1C6"
            },
            "type": "carpet"
           }
          ],
          "choropleth": [
           {
            "colorbar": {
             "outlinewidth": 0,
             "ticks": ""
            },
            "type": "choropleth"
           }
          ],
          "contour": [
           {
            "colorbar": {
             "outlinewidth": 0,
             "ticks": ""
            },
            "colorscale": [
             [
              0,
              "#0d0887"
             ],
             [
              0.1111111111111111,
              "#46039f"
             ],
             [
              0.2222222222222222,
              "#7201a8"
             ],
             [
              0.3333333333333333,
              "#9c179e"
             ],
             [
              0.4444444444444444,
              "#bd3786"
             ],
             [
              0.5555555555555556,
              "#d8576b"
             ],
             [
              0.6666666666666666,
              "#ed7953"
             ],
             [
              0.7777777777777778,
              "#fb9f3a"
             ],
             [
              0.8888888888888888,
              "#fdca26"
             ],
             [
              1,
              "#f0f921"
             ]
            ],
            "type": "contour"
           }
          ],
          "contourcarpet": [
           {
            "colorbar": {
             "outlinewidth": 0,
             "ticks": ""
            },
            "type": "contourcarpet"
           }
          ],
          "heatmap": [
           {
            "colorbar": {
             "outlinewidth": 0,
             "ticks": ""
            },
            "colorscale": [
             [
              0,
              "#0d0887"
             ],
             [
              0.1111111111111111,
              "#46039f"
             ],
             [
              0.2222222222222222,
              "#7201a8"
             ],
             [
              0.3333333333333333,
              "#9c179e"
             ],
             [
              0.4444444444444444,
              "#bd3786"
             ],
             [
              0.5555555555555556,
              "#d8576b"
             ],
             [
              0.6666666666666666,
              "#ed7953"
             ],
             [
              0.7777777777777778,
              "#fb9f3a"
             ],
             [
              0.8888888888888888,
              "#fdca26"
             ],
             [
              1,
              "#f0f921"
             ]
            ],
            "type": "heatmap"
           }
          ],
          "heatmapgl": [
           {
            "colorbar": {
             "outlinewidth": 0,
             "ticks": ""
            },
            "colorscale": [
             [
              0,
              "#0d0887"
             ],
             [
              0.1111111111111111,
              "#46039f"
             ],
             [
              0.2222222222222222,
              "#7201a8"
             ],
             [
              0.3333333333333333,
              "#9c179e"
             ],
             [
              0.4444444444444444,
              "#bd3786"
             ],
             [
              0.5555555555555556,
              "#d8576b"
             ],
             [
              0.6666666666666666,
              "#ed7953"
             ],
             [
              0.7777777777777778,
              "#fb9f3a"
             ],
             [
              0.8888888888888888,
              "#fdca26"
             ],
             [
              1,
              "#f0f921"
             ]
            ],
            "type": "heatmapgl"
           }
          ],
          "histogram": [
           {
            "marker": {
             "pattern": {
              "fillmode": "overlay",
              "size": 10,
              "solidity": 0.2
             }
            },
            "type": "histogram"
           }
          ],
          "histogram2d": [
           {
            "colorbar": {
             "outlinewidth": 0,
             "ticks": ""
            },
            "colorscale": [
             [
              0,
              "#0d0887"
             ],
             [
              0.1111111111111111,
              "#46039f"
             ],
             [
              0.2222222222222222,
              "#7201a8"
             ],
             [
              0.3333333333333333,
              "#9c179e"
             ],
             [
              0.4444444444444444,
              "#bd3786"
             ],
             [
              0.5555555555555556,
              "#d8576b"
             ],
             [
              0.6666666666666666,
              "#ed7953"
             ],
             [
              0.7777777777777778,
              "#fb9f3a"
             ],
             [
              0.8888888888888888,
              "#fdca26"
             ],
             [
              1,
              "#f0f921"
             ]
            ],
            "type": "histogram2d"
           }
          ],
          "histogram2dcontour": [
           {
            "colorbar": {
             "outlinewidth": 0,
             "ticks": ""
            },
            "colorscale": [
             [
              0,
              "#0d0887"
             ],
             [
              0.1111111111111111,
              "#46039f"
             ],
             [
              0.2222222222222222,
              "#7201a8"
             ],
             [
              0.3333333333333333,
              "#9c179e"
             ],
             [
              0.4444444444444444,
              "#bd3786"
             ],
             [
              0.5555555555555556,
              "#d8576b"
             ],
             [
              0.6666666666666666,
              "#ed7953"
             ],
             [
              0.7777777777777778,
              "#fb9f3a"
             ],
             [
              0.8888888888888888,
              "#fdca26"
             ],
             [
              1,
              "#f0f921"
             ]
            ],
            "type": "histogram2dcontour"
           }
          ],
          "mesh3d": [
           {
            "colorbar": {
             "outlinewidth": 0,
             "ticks": ""
            },
            "type": "mesh3d"
           }
          ],
          "parcoords": [
           {
            "line": {
             "colorbar": {
              "outlinewidth": 0,
              "ticks": ""
             }
            },
            "type": "parcoords"
           }
          ],
          "pie": [
           {
            "automargin": true,
            "type": "pie"
           }
          ],
          "scatter": [
           {
            "marker": {
             "line": {
              "color": "#283442"
             }
            },
            "type": "scatter"
           }
          ],
          "scatter3d": [
           {
            "line": {
             "colorbar": {
              "outlinewidth": 0,
              "ticks": ""
             }
            },
            "marker": {
             "colorbar": {
              "outlinewidth": 0,
              "ticks": ""
             }
            },
            "type": "scatter3d"
           }
          ],
          "scattercarpet": [
           {
            "marker": {
             "colorbar": {
              "outlinewidth": 0,
              "ticks": ""
             }
            },
            "type": "scattercarpet"
           }
          ],
          "scattergeo": [
           {
            "marker": {
             "colorbar": {
              "outlinewidth": 0,
              "ticks": ""
             }
            },
            "type": "scattergeo"
           }
          ],
          "scattergl": [
           {
            "marker": {
             "line": {
              "color": "#283442"
             }
            },
            "type": "scattergl"
           }
          ],
          "scattermapbox": [
           {
            "marker": {
             "colorbar": {
              "outlinewidth": 0,
              "ticks": ""
             }
            },
            "type": "scattermapbox"
           }
          ],
          "scatterpolar": [
           {
            "marker": {
             "colorbar": {
              "outlinewidth": 0,
              "ticks": ""
             }
            },
            "type": "scatterpolar"
           }
          ],
          "scatterpolargl": [
           {
            "marker": {
             "colorbar": {
              "outlinewidth": 0,
              "ticks": ""
             }
            },
            "type": "scatterpolargl"
           }
          ],
          "scatterternary": [
           {
            "marker": {
             "colorbar": {
              "outlinewidth": 0,
              "ticks": ""
             }
            },
            "type": "scatterternary"
           }
          ],
          "surface": [
           {
            "colorbar": {
             "outlinewidth": 0,
             "ticks": ""
            },
            "colorscale": [
             [
              0,
              "#0d0887"
             ],
             [
              0.1111111111111111,
              "#46039f"
             ],
             [
              0.2222222222222222,
              "#7201a8"
             ],
             [
              0.3333333333333333,
              "#9c179e"
             ],
             [
              0.4444444444444444,
              "#bd3786"
             ],
             [
              0.5555555555555556,
              "#d8576b"
             ],
             [
              0.6666666666666666,
              "#ed7953"
             ],
             [
              0.7777777777777778,
              "#fb9f3a"
             ],
             [
              0.8888888888888888,
              "#fdca26"
             ],
             [
              1,
              "#f0f921"
             ]
            ],
            "type": "surface"
           }
          ],
          "table": [
           {
            "cells": {
             "fill": {
              "color": "#506784"
             },
             "line": {
              "color": "rgb(17,17,17)"
             }
            },
            "header": {
             "fill": {
              "color": "#2a3f5f"
             },
             "line": {
              "color": "rgb(17,17,17)"
             }
            },
            "type": "table"
           }
          ]
         },
         "layout": {
          "annotationdefaults": {
           "arrowcolor": "#f2f5fa",
           "arrowhead": 0,
           "arrowwidth": 1
          },
          "autotypenumbers": "strict",
          "coloraxis": {
           "colorbar": {
            "outlinewidth": 0,
            "ticks": ""
           }
          },
          "colorscale": {
           "diverging": [
            [
             0,
             "#8e0152"
            ],
            [
             0.1,
             "#c51b7d"
            ],
            [
             0.2,
             "#de77ae"
            ],
            [
             0.3,
             "#f1b6da"
            ],
            [
             0.4,
             "#fde0ef"
            ],
            [
             0.5,
             "#f7f7f7"
            ],
            [
             0.6,
             "#e6f5d0"
            ],
            [
             0.7,
             "#b8e186"
            ],
            [
             0.8,
             "#7fbc41"
            ],
            [
             0.9,
             "#4d9221"
            ],
            [
             1,
             "#276419"
            ]
           ],
           "sequential": [
            [
             0,
             "#0d0887"
            ],
            [
             0.1111111111111111,
             "#46039f"
            ],
            [
             0.2222222222222222,
             "#7201a8"
            ],
            [
             0.3333333333333333,
             "#9c179e"
            ],
            [
             0.4444444444444444,
             "#bd3786"
            ],
            [
             0.5555555555555556,
             "#d8576b"
            ],
            [
             0.6666666666666666,
             "#ed7953"
            ],
            [
             0.7777777777777778,
             "#fb9f3a"
            ],
            [
             0.8888888888888888,
             "#fdca26"
            ],
            [
             1,
             "#f0f921"
            ]
           ],
           "sequentialminus": [
            [
             0,
             "#0d0887"
            ],
            [
             0.1111111111111111,
             "#46039f"
            ],
            [
             0.2222222222222222,
             "#7201a8"
            ],
            [
             0.3333333333333333,
             "#9c179e"
            ],
            [
             0.4444444444444444,
             "#bd3786"
            ],
            [
             0.5555555555555556,
             "#d8576b"
            ],
            [
             0.6666666666666666,
             "#ed7953"
            ],
            [
             0.7777777777777778,
             "#fb9f3a"
            ],
            [
             0.8888888888888888,
             "#fdca26"
            ],
            [
             1,
             "#f0f921"
            ]
           ]
          },
          "colorway": [
           "#636efa",
           "#EF553B",
           "#00cc96",
           "#ab63fa",
           "#FFA15A",
           "#19d3f3",
           "#FF6692",
           "#B6E880",
           "#FF97FF",
           "#FECB52"
          ],
          "font": {
           "color": "#f2f5fa"
          },
          "geo": {
           "bgcolor": "rgb(17,17,17)",
           "lakecolor": "rgb(17,17,17)",
           "landcolor": "rgb(17,17,17)",
           "showlakes": true,
           "showland": true,
           "subunitcolor": "#506784"
          },
          "hoverlabel": {
           "align": "left"
          },
          "hovermode": "closest",
          "mapbox": {
           "style": "dark"
          },
          "paper_bgcolor": "rgb(17,17,17)",
          "plot_bgcolor": "rgb(17,17,17)",
          "polar": {
           "angularaxis": {
            "gridcolor": "#506784",
            "linecolor": "#506784",
            "ticks": ""
           },
           "bgcolor": "rgb(17,17,17)",
           "radialaxis": {
            "gridcolor": "#506784",
            "linecolor": "#506784",
            "ticks": ""
           }
          },
          "scene": {
           "xaxis": {
            "backgroundcolor": "rgb(17,17,17)",
            "gridcolor": "#506784",
            "gridwidth": 2,
            "linecolor": "#506784",
            "showbackground": true,
            "ticks": "",
            "zerolinecolor": "#C8D4E3"
           },
           "yaxis": {
            "backgroundcolor": "rgb(17,17,17)",
            "gridcolor": "#506784",
            "gridwidth": 2,
            "linecolor": "#506784",
            "showbackground": true,
            "ticks": "",
            "zerolinecolor": "#C8D4E3"
           },
           "zaxis": {
            "backgroundcolor": "rgb(17,17,17)",
            "gridcolor": "#506784",
            "gridwidth": 2,
            "linecolor": "#506784",
            "showbackground": true,
            "ticks": "",
            "zerolinecolor": "#C8D4E3"
           }
          },
          "shapedefaults": {
           "line": {
            "color": "#f2f5fa"
           }
          },
          "sliderdefaults": {
           "bgcolor": "#C8D4E3",
           "bordercolor": "rgb(17,17,17)",
           "borderwidth": 1,
           "tickwidth": 0
          },
          "ternary": {
           "aaxis": {
            "gridcolor": "#506784",
            "linecolor": "#506784",
            "ticks": ""
           },
           "baxis": {
            "gridcolor": "#506784",
            "linecolor": "#506784",
            "ticks": ""
           },
           "bgcolor": "rgb(17,17,17)",
           "caxis": {
            "gridcolor": "#506784",
            "linecolor": "#506784",
            "ticks": ""
           }
          },
          "title": {
           "x": 0.05
          },
          "updatemenudefaults": {
           "bgcolor": "#506784",
           "borderwidth": 0
          },
          "xaxis": {
           "automargin": true,
           "gridcolor": "#283442",
           "linecolor": "#506784",
           "ticks": "",
           "title": {
            "standoff": 15
           },
           "zerolinecolor": "#283442",
           "zerolinewidth": 2
          },
          "yaxis": {
           "automargin": true,
           "gridcolor": "#283442",
           "linecolor": "#506784",
           "ticks": "",
           "title": {
            "standoff": 15
           },
           "zerolinecolor": "#283442",
           "zerolinewidth": 2
          }
         }
        },
        "title": {
         "text": "Accuracy per bin",
         "x": 0.5
        },
        "xaxis": {
         "anchor": "y",
         "domain": [
          0,
          1
         ],
         "title": {
          "text": "bin"
         }
        },
        "yaxis": {
         "anchor": "x",
         "domain": [
          0,
          1
         ],
         "title": {
          "text": "value"
         }
        }
       }
      }
     },
     "metadata": {},
     "output_type": "display_data"
    }
   ],
   "source": [
    "bin_nums = \"1 2 3 4 5 6 7 8\".split()\n",
    "\n",
    "dev_bin_avg_docs = []\n",
    "\n",
    "\n",
    "\n",
    "\n",
    "# manually recorded\n",
    "HALF_FEATS_ACCS = [0.0, 0.02857142857142857, 0.08571428571428572, 0.11428571428571428, 0.22857142857142856, 0.22857142857142856, 0.22857142857142856, 0.4]\n",
    "ALL_FEATS_ACCS = [0.0, 0.05714285714285714, 0.11428571428571428, 0.17142857142857143, 0.2, 0.2, 0.2857142857142857, 0.5428571428571428]\n",
    "\n",
    "\n",
    " \n",
    "\n",
    "df = pd.DataFrame.from_dict({\"half_features\": HALF_FEATS_ACCS,\n",
    "                             \"all_features\" : ALL_FEATS_ACCS,\n",
    "                             \"bin\":bin_nums})\n",
    "\n",
    "\n",
    "fig = px.line(df, x=\"bin\", y=df.columns[0:2], template=\"plotly_dark\", markers=True,)\n",
    "fig.update_layout(title_text=\"Accuracy per bin\", title_x=0.5)\n",
    "\n"
   ]
  },
  {
   "cell_type": "code",
   "execution_count": null,
   "metadata": {},
   "outputs": [],
   "source": [
    "\n"
   ]
  },
  {
   "attachments": {},
   "cell_type": "markdown",
   "metadata": {},
   "source": [
    "## Backups\n",
    "\n",
    "### DOC-SORTED DEV BINS (metric=euclid)"
   ]
  },
  {
   "cell_type": "code",
   "execution_count": null,
   "metadata": {},
   "outputs": [],
   "source": [
    "\n",
    "\n",
    "\n",
    "{\n",
    "  \"results\": [\n",
    "    {\n",
    "      \"datetime\": \"2023-01-09 17:19:32.731050\",\n",
    "      \"acc\": 0.4857142857142857,\n",
    "      \"config\": [\n",
    "        \"pos_unigrams\",\n",
    "        \"pos_bigrams\",\n",
    "        \"func_words\",\n",
    "        \"punc\",\n",
    "        \"letters\",\n",
    "        \"common_emojis\",\n",
    "        \"doc_vector\",\n",
    "        \"doc_stats\",\n",
    "        \"dep_labels\",\n",
    "        \"mixed_bigrams\"\n",
    "      ],\n",
    "      \"vector_length\": \"707\",\n",
    "      \"k\": \"7\"\n",
    "    },\n",
    "    {\n",
    "      \"datetime\": \"2023-01-09 17:19:47.934214\",\n",
    "      \"acc\": 0.2571428571428571,\n",
    "      \"config\": [\n",
    "        \"pos_unigrams\",\n",
    "        \"pos_bigrams\",\n",
    "        \"func_words\",\n",
    "        \"punc\",\n",
    "        \"letters\",\n",
    "        \"common_emojis\",\n",
    "        \"doc_vector\",\n",
    "        \"doc_stats\",\n",
    "        \"dep_labels\",\n",
    "        \"mixed_bigrams\"\n",
    "      ],\n",
    "      \"vector_length\": \"707\",\n",
    "      \"k\": \"7\"\n",
    "    },\n",
    "    {\n",
    "      \"datetime\": \"2023-01-09 17:20:03.183383\",\n",
    "      \"acc\": 0.22857142857142856,\n",
    "      \"config\": [\n",
    "        \"pos_unigrams\",\n",
    "        \"pos_bigrams\",\n",
    "        \"func_words\",\n",
    "        \"punc\",\n",
    "        \"letters\",\n",
    "        \"common_emojis\",\n",
    "        \"doc_vector\",\n",
    "        \"doc_stats\",\n",
    "        \"dep_labels\",\n",
    "        \"mixed_bigrams\"\n",
    "      ],\n",
    "      \"vector_length\": \"707\",\n",
    "      \"k\": \"7\"\n",
    "    },\n",
    "    {\n",
    "      \"datetime\": \"2023-01-09 17:20:18.623211\",\n",
    "      \"acc\": 0.14285714285714285,\n",
    "      \"config\": [\n",
    "        \"pos_unigrams\",\n",
    "        \"pos_bigrams\",\n",
    "        \"func_words\",\n",
    "        \"punc\",\n",
    "        \"letters\",\n",
    "        \"common_emojis\",\n",
    "        \"doc_vector\",\n",
    "        \"doc_stats\",\n",
    "        \"dep_labels\",\n",
    "        \"mixed_bigrams\"\n",
    "      ],\n",
    "      \"vector_length\": \"707\",\n",
    "      \"k\": \"7\"\n",
    "    },\n",
    "    {\n",
    "      \"datetime\": \"2023-01-09 17:20:34.516043\",\n",
    "      \"acc\": 0.14285714285714285,\n",
    "      \"config\": [\n",
    "        \"pos_unigrams\",\n",
    "        \"pos_bigrams\",\n",
    "        \"func_words\",\n",
    "        \"punc\",\n",
    "        \"letters\",\n",
    "        \"common_emojis\",\n",
    "        \"doc_vector\",\n",
    "        \"doc_stats\",\n",
    "        \"dep_labels\",\n",
    "        \"mixed_bigrams\"\n",
    "      ],\n",
    "      \"vector_length\": \"707\",\n",
    "      \"k\": \"7\"\n",
    "    },\n",
    "    {\n",
    "      \"datetime\": \"2023-01-09 17:20:50.119132\",\n",
    "      \"acc\": 0.22857142857142856,\n",
    "      \"config\": [\n",
    "        \"pos_unigrams\",\n",
    "        \"pos_bigrams\",\n",
    "        \"func_words\",\n",
    "        \"punc\",\n",
    "        \"letters\",\n",
    "        \"common_emojis\",\n",
    "        \"doc_vector\",\n",
    "        \"doc_stats\",\n",
    "        \"dep_labels\",\n",
    "        \"mixed_bigrams\"\n",
    "      ],\n",
    "      \"vector_length\": \"707\",\n",
    "      \"k\": \"7\"\n",
    "    },\n",
    "    {\n",
    "      \"datetime\": \"2023-01-09 17:21:05.201044\",\n",
    "      \"acc\": 0.05714285714285714,\n",
    "      \"config\": [\n",
    "        \"pos_unigrams\",\n",
    "        \"pos_bigrams\",\n",
    "        \"func_words\",\n",
    "        \"punc\",\n",
    "        \"letters\",\n",
    "        \"common_emojis\",\n",
    "        \"doc_vector\",\n",
    "        \"doc_stats\",\n",
    "        \"dep_labels\",\n",
    "        \"mixed_bigrams\"\n",
    "      ],\n",
    "      \"vector_length\": \"707\",\n",
    "      \"k\": \"7\"\n",
    "    },\n",
    "    {\n",
    "      \"datetime\": \"2023-01-09 17:21:20.507916\",\n",
    "      \"acc\": 0.0,\n",
    "      \"config\": [\n",
    "        \"pos_unigrams\",\n",
    "        \"pos_bigrams\",\n",
    "        \"func_words\",\n",
    "        \"punc\",\n",
    "        \"letters\",\n",
    "        \"common_emojis\",\n",
    "        \"doc_vector\",\n",
    "        \"doc_stats\",\n",
    "        \"dep_labels\",\n",
    "        \"mixed_bigrams\"\n",
    "      ],\n",
    "      \"vector_length\": \"707\",\n",
    "      \"k\": \"7\"\n",
    "    }\n",
    "  ]\n",
    "}"
   ]
  },
  {
   "attachments": {},
   "cell_type": "markdown",
   "metadata": {},
   "source": [
    "### DOC SORTED DEV BINS (metric=cosine)"
   ]
  },
  {
   "cell_type": "code",
   "execution_count": null,
   "metadata": {},
   "outputs": [],
   "source": [
    "{\n",
    "  \"results\": [\n",
    "    {\n",
    "      \"datetime\": \"2023-01-17 13:15:39.774486\",\n",
    "      \"acc\": 0.5428571428571428,\n",
    "      \"vector_length\": \"707\",\n",
    "      \"k\": \"7\",\n",
    "      \"Metric\": \"cosine\",\n",
    "      \"config\": [\n",
    "        \"pos_unigrams\",\n",
    "        \"pos_bigrams\",\n",
    "        \"func_words\",\n",
    "        \"punc\",\n",
    "        \"letters\",\n",
    "        \"common_emojis\",\n",
    "        \"doc_vector\",\n",
    "        \"doc_stats\",\n",
    "        \"dep_labels\",\n",
    "        \"mixed_bigrams\"\n",
    "      ]\n",
    "    },\n",
    "    {\n",
    "      \"datetime\": \"2023-01-17 13:15:54.863078\",\n",
    "      \"acc\": 0.17142857142857143,\n",
    "      \"vector_length\": \"707\",\n",
    "      \"k\": \"7\",\n",
    "      \"Metric\": \"cosine\",\n",
    "      \"config\": [\n",
    "        \"pos_unigrams\",\n",
    "        \"pos_bigrams\",\n",
    "        \"func_words\",\n",
    "        \"punc\",\n",
    "        \"letters\",\n",
    "        \"common_emojis\",\n",
    "        \"doc_vector\",\n",
    "        \"doc_stats\",\n",
    "        \"dep_labels\",\n",
    "        \"mixed_bigrams\"\n",
    "      ]\n",
    "    },\n",
    "    {\n",
    "      \"datetime\": \"2023-01-17 13:16:10.055100\",\n",
    "      \"acc\": 0.2,\n",
    "      \"vector_length\": \"707\",\n",
    "      \"k\": \"7\",\n",
    "      \"Metric\": \"cosine\",\n",
    "      \"config\": [\n",
    "        \"pos_unigrams\",\n",
    "        \"pos_bigrams\",\n",
    "        \"func_words\",\n",
    "        \"punc\",\n",
    "        \"letters\",\n",
    "        \"common_emojis\",\n",
    "        \"doc_vector\",\n",
    "        \"doc_stats\",\n",
    "        \"dep_labels\",\n",
    "        \"mixed_bigrams\"\n",
    "      ]\n",
    "    },\n",
    "    {\n",
    "      \"datetime\": \"2023-01-17 13:16:25.346764\",\n",
    "      \"acc\": 0.2,\n",
    "      \"vector_length\": \"707\",\n",
    "      \"k\": \"7\",\n",
    "      \"Metric\": \"cosine\",\n",
    "      \"config\": [\n",
    "        \"pos_unigrams\",\n",
    "        \"pos_bigrams\",\n",
    "        \"func_words\",\n",
    "        \"punc\",\n",
    "        \"letters\",\n",
    "        \"common_emojis\",\n",
    "        \"doc_vector\",\n",
    "        \"doc_stats\",\n",
    "        \"dep_labels\",\n",
    "        \"mixed_bigrams\"\n",
    "      ]\n",
    "    },\n",
    "    {\n",
    "      \"datetime\": \"2023-01-17 13:16:40.599021\",\n",
    "      \"acc\": 0.05714285714285714,\n",
    "      \"vector_length\": \"707\",\n",
    "      \"k\": \"7\",\n",
    "      \"Metric\": \"cosine\",\n",
    "      \"config\": [\n",
    "        \"pos_unigrams\",\n",
    "        \"pos_bigrams\",\n",
    "        \"func_words\",\n",
    "        \"punc\",\n",
    "        \"letters\",\n",
    "        \"common_emojis\",\n",
    "        \"doc_vector\",\n",
    "        \"doc_stats\",\n",
    "        \"dep_labels\",\n",
    "        \"mixed_bigrams\"\n",
    "      ]\n",
    "    },\n",
    "    {\n",
    "      \"datetime\": \"2023-01-17 13:16:55.796938\",\n",
    "      \"acc\": 0.2857142857142857,\n",
    "      \"vector_length\": \"707\",\n",
    "      \"k\": \"7\",\n",
    "      \"Metric\": \"cosine\",\n",
    "      \"config\": [\n",
    "        \"pos_unigrams\",\n",
    "        \"pos_bigrams\",\n",
    "        \"func_words\",\n",
    "        \"punc\",\n",
    "        \"letters\",\n",
    "        \"common_emojis\",\n",
    "        \"doc_vector\",\n",
    "        \"doc_stats\",\n",
    "        \"dep_labels\",\n",
    "        \"mixed_bigrams\"\n",
    "      ]\n",
    "    },\n",
    "    {\n",
    "      \"datetime\": \"2023-01-17 13:17:11.070055\",\n",
    "      \"acc\": 0.11428571428571428,\n",
    "      \"vector_length\": \"707\",\n",
    "      \"k\": \"7\",\n",
    "      \"Metric\": \"cosine\",\n",
    "      \"config\": [\n",
    "        \"pos_unigrams\",\n",
    "        \"pos_bigrams\",\n",
    "        \"func_words\",\n",
    "        \"punc\",\n",
    "        \"letters\",\n",
    "        \"common_emojis\",\n",
    "        \"doc_vector\",\n",
    "        \"doc_stats\",\n",
    "        \"dep_labels\",\n",
    "        \"mixed_bigrams\"\n",
    "      ]\n",
    "    },\n",
    "    {\n",
    "      \"datetime\": \"2023-01-17 13:17:26.285711\",\n",
    "      \"acc\": 0.0,\n",
    "      \"vector_length\": \"707\",\n",
    "      \"k\": \"7\",\n",
    "      \"Metric\": \"cosine\",\n",
    "      \"config\": [\n",
    "        \"pos_unigrams\",\n",
    "        \"pos_bigrams\",\n",
    "        \"func_words\",\n",
    "        \"punc\",\n",
    "        \"letters\",\n",
    "        \"common_emojis\",\n",
    "        \"doc_vector\",\n",
    "        \"doc_stats\",\n",
    "        \"dep_labels\",\n",
    "        \"mixed_bigrams\"\n",
    "      ]\n",
    "    }\n",
    "  ]\n",
    "}"
   ]
  },
  {
   "cell_type": "code",
   "execution_count": null,
   "metadata": {},
   "outputs": [],
   "source": []
  },
  {
   "cell_type": "code",
   "execution_count": null,
   "metadata": {},
   "outputs": [],
   "source": []
  }
 ],
 "metadata": {
  "kernelspec": {
   "display_name": ".venv",
   "language": "python",
   "name": "python3"
  },
  "language_info": {
   "codemirror_mode": {
    "name": "ipython",
    "version": 3
   },
   "file_extension": ".py",
   "mimetype": "text/x-python",
   "name": "python",
   "nbconvert_exporter": "python",
   "pygments_lexer": "ipython3",
   "version": "3.10.6"
  },
  "vscode": {
   "interpreter": {
    "hash": "39816ae5e1dd6efcfe0b7efe22b855e119119f64616b7b0086574424de20bb02"
   }
  }
 },
 "nbformat": 4,
 "nbformat_minor": 2
}
