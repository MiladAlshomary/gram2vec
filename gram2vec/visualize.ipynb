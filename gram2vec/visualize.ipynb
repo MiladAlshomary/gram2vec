{
 "cells": [
  {
   "cell_type": "markdown",
   "metadata": {},
   "source": [
    "# Visualization notebook\n",
    "\n",
    "This notebook contains the k-NN model, as well as means for generating plots. The classifier is due to be moved into `classifier.py` in the future\n",
    "\n",
    "-------\n",
    "\n",
    "## Imports and functions"
   ]
  },
  {
   "cell_type": "code",
   "execution_count": 1,
   "metadata": {},
   "outputs": [],
   "source": [
    "import utils\n",
    "from sklearn.decomposition import PCA\n",
    "from sklearn.manifold import TSNE\n",
    "import matplotlib.pyplot as plt\n",
    "import seaborn as sns\n",
    "import numpy as np\n",
    "import pandas as pd\n",
    "import warnings\n",
    "warnings.filterwarnings(\"ignore\", category=FutureWarning)\n",
    "%matplotlib inline\n",
    "\n",
    "# 1,071,477 authors"
   ]
  },
  {
   "attachments": {},
   "cell_type": "markdown",
   "metadata": {},
   "source": [
    "# Carve a subset from MUD and store in database"
   ]
  },
  {
   "cell_type": "code",
   "execution_count": 9,
   "metadata": {},
   "outputs": [
    {
     "name": "stdout",
     "output_type": "stream",
     "text": [
      " start_map None \n",
      "\n",
      " map_key syms \n",
      "\n",
      "syms start_array None \n",
      "\n",
      "syms.item string I dash attack waaaayyyyy too often \n",
      "\n",
      "syms.item string SO HAPPY ARMADA CAME THROUGH AGAINST THE PUNK ASS PUFF \n",
      "\n",
      "syms.item string Anyone have a replay of this? I missed it \n",
      "\n",
      "syms.item string You look like a dead goldfish that was left in its tank for so long it started to grow mold \n",
      "\n",
      "syms.item string Poké Floats was legal??? Better not tell twitch that \n",
      "\n",
      "syms.item string Were you homeschooled for how to do your hair then? \n",
      "\n",
      "syms.item string Call me insane, but I've always wanted to know what having a period feels like firsthand. (Sometimes even thought about childbirth, too) Seriously, the amount of pain women have to endure is just unfair. \n",
      "\n",
      "syms.item string Probably tell them that they really can do anything if they set their mind to it. Also to all the Santa comments, I'll tell my kids right away that Santa is made up, and let them spread that to the other kids at school.\n",
      "\n",
      "Just realized: I'm one evil motherfucker \n",
      "\n",
      "syms.item string Back in 2007, a Muslim girl in Grade 11 at my current high school was murdered by her father for refusing to wear a hijab. The judge described the murder as an \"honour killing\". I wasn't a student there at the time, but the story made headlines all over the place, and it's the first thing most people think of when they hear about my school. \n",
      "\n",
      "syms.item string Pokémon Mystery Dungeon. One of the most criminally underrated games in the entire series. One of the few Pokémon games with an actual story, and it's a damn good one. The only video game I ever cried for. \n",
      "\n",
      "syms.item string Newfoundland. The people can be a bit weird, but by god, the views you can get are absolutely amazing. \n",
      "\n",
      "syms.item string D7, Fm, C.    i think \n",
      "\n",
      "syms.item string First part: Am, C, G\n",
      "Last part toward the end: F, C, G \n",
      "\n",
      "syms.item string Verse: Em, C, G, D\n",
      "\n",
      "Pre-chorus: (conceal don't feel) Bm7, C\n",
      "\n",
      "Chorus: G, Bm7, Em, C\n",
      "\n",
      "Let his cock rage on(kill me please): G, Bm7, C \n",
      "\n",
      "syms.item string Because all of the atheists who parade themselves as atheists, and therefore, the atheists who are well known, are all assholes, bigoted, and just as disrespectful towards other cultures as militant Christians, white supremacists, etc. (The Amazing Atheist comes to mind) So a lot of atheists who don't want to be put in the same group as those people refrain from using the word \"atheist\" to describe themselves, (myself included) and instead just say that they don't believe in God or any kind of deity. \n",
      "\n",
      "syms.item string King K. Rool seems to be a really popular vote. \n",
      "\n",
      "syms.item string Information. The more you know, the less happy you are. \n",
      "\n"
     ]
    }
   ],
   "source": [
    "import ijson\n",
    "import sqlite3\n",
    "\n",
    "\n",
    "data = ijson.parse(open(\"data/mud/full/raw_mud/raw_all/data.jsonl\"),multiple_values=True)\n",
    "\n",
    "\n",
    "i = 0\n",
    "STOP = 20\n",
    "d = {}\n",
    "for prefix, event, value in data:\n",
    "    pass\n",
    "    \n",
    "    \n",
    "    \n",
    "    \n",
    "    \n",
    "    # i += 1\n",
    "    # if i == STOP:\n",
    "    #     break\n",
    "\n"
   ]
  },
  {
   "cell_type": "code",
   "execution_count": null,
   "metadata": {},
   "outputs": [],
   "source": [
    "\n",
    "        \n",
    "\n"
   ]
  },
  {
   "cell_type": "code",
   "execution_count": null,
   "metadata": {},
   "outputs": [],
   "source": []
  }
 ],
 "metadata": {
  "kernelspec": {
   "display_name": ".venv",
   "language": "python",
   "name": "python3"
  },
  "language_info": {
   "codemirror_mode": {
    "name": "ipython",
    "version": 3
   },
   "file_extension": ".py",
   "mimetype": "text/x-python",
   "name": "python",
   "nbconvert_exporter": "python",
   "pygments_lexer": "ipython3",
   "version": "3.10.6"
  },
  "orig_nbformat": 4,
  "vscode": {
   "interpreter": {
    "hash": "39816ae5e1dd6efcfe0b7efe22b855e119119f64616b7b0086574424de20bb02"
   }
  }
 },
 "nbformat": 4,
 "nbformat_minor": 2
}
