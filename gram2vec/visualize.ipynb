{
 "cells": [
  {
   "attachments": {},
   "cell_type": "markdown",
   "metadata": {},
   "source": [
    "# Visualization notebook\n",
    "\n",
    "This notebook is meant for visualizing stuff and testing code. "
   ]
  },
  {
   "cell_type": "code",
   "execution_count": 1,
   "metadata": {},
   "outputs": [],
   "source": [
    "import numpy as np\n",
    "import pandas as pd\n",
    "import os\n",
    "import warnings\n",
    "import matplotlib.pyplot as plt\n",
    "import seaborn as sns\n",
    "import json\n",
    "from nltk import Tree\n",
    "from spacy import displacy\n",
    "import spacy\n",
    "from dataclasses import dataclass\n",
    "from nltk.tokenize import word_tokenize\n",
    "from collections import defaultdict, Counter\n",
    "from vectorizer import GrammarVectorizer, make_document\n",
    "from contextlib import contextmanager\n",
    "warnings.filterwarnings(\"ignore\", category=FutureWarning)"
   ]
  },
  {
   "cell_type": "code",
   "execution_count": 2,
   "metadata": {},
   "outputs": [],
   "source": [
    "@contextmanager\n",
    "def temp_change_dir(path:str):\n",
    "    \"\"\"Changes to a new directory specified by given path, and then reverts back to the old directory\"\"\"\n",
    "    oldpwd = os.getcwd()\n",
    "    os.chdir(path)\n",
    "    try:\n",
    "        yield\n",
    "    finally:\n",
    "        os.chdir(oldpwd)\n",
    "        \n",
    "def load_pan22() -> pd.DataFrame:\n",
    "    \"\"\"Loads PAN22 data as a dataframe\"\"\"\n",
    "    with temp_change_dir(\"../../\"):\n",
    "        return pd.read_json(\"data/pan22/preprocessed/pan22_preprocessed.jsonl\", lines=True)"
   ]
  },
  {
   "cell_type": "code",
   "execution_count": 5,
   "metadata": {},
   "outputs": [],
   "source": [
    "\n",
    "pan = load_pan22()\n",
    "\n",
    "docs = pan[\"fullText\"]\n",
    "g2v = GrammarVectorizer()\n",
    "df = g2v.create_vector_df(docs.to_list())\n",
    "df.insert(1, \"author_id\", pan[\"authorIDs\"])\n",
    "\n",
    "\n",
    "#df.to_csv(\"../../../authorship_analysis/data/document_vectors.csv\", index=None)"
   ]
  },
  {
   "cell_type": "code",
   "execution_count": 12,
   "metadata": {},
   "outputs": [
    {
     "data": {
      "text/plain": [
       "(3, 429)"
      ]
     },
     "execution_count": 12,
     "metadata": {},
     "output_type": "execute_result"
    }
   ],
   "source": [
    "docs = [\n",
    "    \"This is an extremely wonderful string\",\n",
    "    \"The string below me is false.\",\n",
    "    \"The string above me is true\"\n",
    "    ]\n",
    "g2v = GrammarVectorizer()\n",
    "df = g2v.create_vector_df(docs)\n",
    "df.shape"
   ]
  },
  {
   "cell_type": "code",
   "execution_count": null,
   "metadata": {},
   "outputs": [],
   "source": [
    "\n",
    "\n"
   ]
  },
  {
   "cell_type": "code",
   "execution_count": null,
   "metadata": {},
   "outputs": [],
   "source": []
  }
 ],
 "metadata": {
  "kernelspec": {
   "display_name": "Python 3 (ipykernel)",
   "language": "python",
   "name": "python3"
  },
  "language_info": {
   "codemirror_mode": {
    "name": "ipython",
    "version": 3
   },
   "file_extension": ".py",
   "mimetype": "text/x-python",
   "name": "python",
   "nbconvert_exporter": "python",
   "pygments_lexer": "ipython3",
   "version": "3.11.3"
  },
  "vscode": {
   "interpreter": {
    "hash": "8426aeb6a0394c95a6dca738b4382d3e4f73a60ab3fca776cba99777e8eb1027"
   }
  }
 },
 "nbformat": 4,
 "nbformat_minor": 2
}
