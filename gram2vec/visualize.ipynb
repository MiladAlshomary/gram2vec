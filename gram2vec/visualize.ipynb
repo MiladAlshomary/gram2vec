{
 "cells": [
  {
   "cell_type": "markdown",
   "metadata": {},
   "source": [
    "# Visualization notebook\n",
    "\n",
    "\n",
    "\n",
    "## Imports and functions"
   ]
  },
  {
   "cell_type": "code",
   "execution_count": 11,
   "metadata": {},
   "outputs": [],
   "source": [
    "import utils\n",
    "from sklearn.decomposition import PCA\n",
    "from sklearn.manifold import TSNE\n",
    "import matplotlib.pyplot as plt\n",
    "import seaborn as sns\n",
    "import numpy as np\n",
    "import pandas as pd\n",
    "import warnings\n",
    "import spacy\n",
    "from nltk import bigrams\n",
    "from collections import Counter\n",
    "warnings.filterwarnings(\"ignore\", category=FutureWarning)\n",
    "%matplotlib inline\n",
    "\n",
    "# 1,071,477 authors"
   ]
  },
  {
   "cell_type": "code",
   "execution_count": 16,
   "metadata": {},
   "outputs": [
    {
     "data": {
      "text/plain": [
       "Counter({('This', 'is'): 1,\n",
       "         ('is', 'a'): 1,\n",
       "         ('a', 'NOUN'): 1,\n",
       "         ('NOUN', 'and'): 1,\n",
       "         ('and', 'I'): 1,\n",
       "         ('I', 'VERB'): 1,\n",
       "         ('VERB', 'NOUN'): 1,\n",
       "         ('NOUN', 'NOUN'): 1,\n",
       "         ('NOUN', 'the'): 1})"
      ]
     },
     "execution_count": 16,
     "metadata": {},
     "output_type": "execute_result"
    }
   ],
   "source": []
  },
  {
   "cell_type": "code",
   "execution_count": 26,
   "metadata": {},
   "outputs": [
    {
     "name": "stdout",
     "output_type": "stream",
     "text": [
      "['PRON', 'AUX', 'DET', 'ADJ', 'NOUN']\n",
      "Counter({('PRON', 'AUX'): 1, ('PRON', 'DET'): 1, ('PRON', 'ADJ'): 1, ('PRON', 'NOUN'): 1, ('AUX', 'DET'): 1, ('AUX', 'ADJ'): 1, ('AUX', 'NOUN'): 1, ('DET', 'ADJ'): 1, ('DET', 'NOUN'): 1, ('ADJ', 'NOUN'): 1})\n"
     ]
    }
   ],
   "source": [
    "nlp = utils.load_spacy(\"en_core_web_md\")\n",
    "\n",
    "\n",
    "doc = nlp(\"This is a big string\")\n",
    "\n",
    "\n",
    "\n",
    "\n",
    "\n",
    "def pos_subsequences(doc):\n",
    "    \n",
    "    pos = [token.pos_ for token in doc]\n",
    "    \n",
    "    subseqs = []\n",
    "    for i in range(len(pos)-1):\n",
    "        subseqs.extend([(pos[i],pos[n]) for n in range(i+1, len(pos))])   \n",
    "    return Counter(subseqs)\n",
    "    \n",
    "print([token.pos_ for token in doc])\n",
    "print(pos_subsequences(doc))\n"
   ]
  },
  {
   "cell_type": "code",
   "execution_count": 7,
   "metadata": {},
   "outputs": [
    {
     "data": {
      "text/plain": [
       "[2, 3, 1, 4, 2, 1, 1]"
      ]
     },
     "execution_count": 7,
     "metadata": {},
     "output_type": "execute_result"
    }
   ],
   "source": []
  },
  {
   "cell_type": "code",
   "execution_count": 9,
   "metadata": {},
   "outputs": [],
   "source": [
    "import ijson\n",
    "import sqlite3\n",
    "import random\n",
    "\n",
    "data = ijson.parse(open(\"data/mud/full/raw_mud/raw_all/data.jsonl\"), multiple_values=True)\n",
    "\n",
    "i = 0\n",
    "num_authors = 100\n",
    "\n",
    "d = {}\n",
    "posts = []\n",
    "for prefix, event, value in data:\n",
    "    \n",
    "    if prefix == \"syms.item\":\n",
    "        posts.append(value)\n",
    "        \n",
    "    if prefix.startswith(\"author_id\"):\n",
    "        d[value] = posts\n",
    "        posts = []\n",
    "        i += 1\n",
    "\n",
    "    if i == num_authors:\n",
    "        break\n",
    "\n",
    "\n",
    "\n",
    "# author = random.choice(list(d.keys()))\n",
    "\n",
    "\n",
    "# save = {author:d[author]}\n",
    "# print(len(d[author]))\n",
    "\n",
    "# utils.save_json(save, \"example_author.json\")\n",
    "\n"
   ]
  },
  {
   "cell_type": "code",
   "execution_count": 10,
   "metadata": {},
   "outputs": [
    {
     "data": {
      "text/plain": [
       "[(3, 4)]"
      ]
     },
     "execution_count": 10,
     "metadata": {},
     "output_type": "execute_result"
    }
   ],
   "source": []
  },
  {
   "cell_type": "code",
   "execution_count": null,
   "metadata": {},
   "outputs": [],
   "source": []
  },
  {
   "cell_type": "code",
   "execution_count": null,
   "metadata": {},
   "outputs": [],
   "source": []
  }
 ],
 "metadata": {
  "kernelspec": {
   "display_name": "Python 3 (ipykernel)",
   "language": "python",
   "name": "python3"
  },
  "language_info": {
   "codemirror_mode": {
    "name": "ipython",
    "version": 3
   },
   "file_extension": ".py",
   "mimetype": "text/x-python",
   "name": "python",
   "nbconvert_exporter": "python",
   "pygments_lexer": "ipython3",
   "version": "3.10.6"
  },
  "vscode": {
   "interpreter": {
    "hash": "39816ae5e1dd6efcfe0b7efe22b855e119119f64616b7b0086574424de20bb02"
   }
  }
 },
 "nbformat": 4,
 "nbformat_minor": 2
}
