{
 "cells": [
  {
   "cell_type": "markdown",
   "metadata": {},
   "source": [
    "# Visualization notebook\n",
    "\n",
    "This notebook contains the k-NN model, as well as means for generating plots. The classifier is due to be moved into `classifier.py` in the future\n",
    "\n",
    "-------\n",
    "\n",
    "## Imports and functions"
   ]
  },
  {
   "cell_type": "code",
   "execution_count": 1,
   "metadata": {},
   "outputs": [],
   "source": [
    "import utils\n",
    "\n",
    "from sklearn.decomposition import PCA\n",
    "from sklearn.manifold import TSNE\n",
    "\n",
    "import matplotlib.pyplot as plt\n",
    "import seaborn as sns\n",
    "import numpy as np\n",
    "import pandas as pd\n",
    "import warnings\n",
    "warnings.filterwarnings(\"ignore\", category=FutureWarning)\n",
    "%matplotlib inline\n",
    "\n",
    "\n",
    "\n",
    "def get_baseline(path):\n",
    "    df = pd.read_csv(path, delimiter=\"\\t\")\n",
    "    \n",
    "    total = df.num_counts.sum()\n",
    "    majority_baseline = round(df.max().num_counts / total, ndigits=2)\n",
    "    return majority_baseline"
   ]
  },
  {
   "cell_type": "markdown",
   "metadata": {},
   "source": [
    "## Baseline training"
   ]
  },
  {
   "cell_type": "code",
   "execution_count": 4,
   "metadata": {},
   "outputs": [
    {
     "name": "stdout",
     "output_type": "stream",
     "text": [
      "dev_baseline_acc = 0.15714285714285714\n",
      "test_baseline_acc = 0.12857142857142856\n"
     ]
    }
   ],
   "source": []
  },
  {
   "cell_type": "code",
   "execution_count": 14,
   "metadata": {},
   "outputs": [
    {
     "data": {
      "text/plain": [
       "'<lambda>'"
      ]
     },
     "execution_count": 14,
     "metadata": {},
     "output_type": "execute_result"
    }
   ],
   "source": [
    "FEATURIZERS = {}\n",
    "\n",
    "\n",
    "\n",
    "def featurizer(func):\n",
    "    \n",
    "    def wrapper():\n",
    "        FEATURIZERS[func.__name__] = func\n",
    "        return None\n",
    "    \n",
    "    return wrapper\n",
    "\n",
    "@featurizer\n",
    "def a_func():\n",
    "    return 3\n",
    "\n",
    "\n",
    "a = a_func()\n",
    "\n",
    "\n"
   ]
  },
  {
   "cell_type": "code",
   "execution_count": null,
   "metadata": {},
   "outputs": [],
   "source": []
  }
 ],
 "metadata": {
  "kernelspec": {
   "display_name": "gram2vec-SBt7G7Mh-py3.10",
   "language": "python",
   "name": "python3"
  },
  "language_info": {
   "codemirror_mode": {
    "name": "ipython",
    "version": 3
   },
   "file_extension": ".py",
   "mimetype": "text/x-python",
   "name": "python",
   "nbconvert_exporter": "python",
   "pygments_lexer": "ipython3",
   "version": "3.10.4"
  },
  "orig_nbformat": 4,
  "vscode": {
   "interpreter": {
    "hash": "ff5be9d3d06367051e1a563ef5ad57036912a8f58b50967fa5d42689b2607e64"
   }
  }
 },
 "nbformat": 4,
 "nbformat_minor": 2
}
