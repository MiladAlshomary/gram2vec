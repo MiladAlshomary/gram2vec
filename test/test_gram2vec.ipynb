{
 "cells": [
  {
   "cell_type": "code",
   "execution_count": 1,
   "metadata": {},
   "outputs": [
    {
     "name": "stdout",
     "output_type": "stream",
     "text": [
      "using russian constructions\n",
      "Gram2Vec: Using 'ru_core_news_lg'\n"
     ]
    }
   ],
   "source": [
    "import os\n",
    "os.environ[\"SPACY_MODEL\"] = \"ru_core_news_lg\"\n",
    "\n",
    "from gram2vec import vectorizer\n",
    "import numpy as np"
   ]
  },
  {
   "cell_type": "code",
   "execution_count": 2,
   "metadata": {},
   "outputs": [
    {
     "name": "stdout",
     "output_type": "stream",
     "text": [
      "(золото-золото-NOUN-ROOT(Все-все-PRON-nsubj(блестит-блестеть-VERB-acl:relcl(,-,-PUNCT-punct)(что-что-PRON-nsubj)(,-,-PUNCT-punct)(не-не-PART-advmod)(.-.-PUNCT-punct))))\n",
      "(делай-делать-VERB-ROOT(Когда-когда-SCONJ-mark)(Риме-рим-PROPN-obl(в-в-ADP-case)(,-,-PUNCT-punct)(делают-делать-VERB-ccomp(,-,-PUNCT-punct)(как-как-SCONJ-advmod)(римляне-римлянин-NOUN-nsubj)(.-.-PUNCT-punct))))\n",
      "(нужен-нужный-ADJ-ROOT(Джимми-джимми-PROPN-obl(Для-Для-ADP-case)(Рождество-рождество-PROPN-obl(на-на-ADP-case)(велосипед-велосипед-NOUN-nsubj(новый-новый-ADJ-amod)(.-.-PUNCT-punct)))))\n",
      "(сказал-сказать-VERB-ROOT(Он-он-PRON-nsubj)(говорить-говорить-VERB-ccomp(,-,-PUNCT-punct)(что-что-SCONJ-mark)(не-не-PART-advmod)(будет-быть-AUX-aux)(ней-ней-PRON-obl(с-с-ADP-case)(.-.-PUNCT-punct))))\n",
      "(проста-простой-ADJ-ROOT(Причина-причина-NOUN-nsubj)(занимаются-заниматься-VERB-parataxis(–-–-PUNCT-punct)(многие-многие-NOUN-nsubj)(языком-язык-NOUN-obl(английским-английский-ADJ-amod)(школы-школа-NOUN-obl(вне-вне-ADP-case)(.-.-PUNCT-punct)))))\n"
     ]
    }
   ],
   "source": [
    "config = {\n",
    "    \"pos_unigrams\":1,\n",
    "    \"pos_bigrams\":1,\n",
    "    \"func_words\":1,\n",
    "    \"punctuation\":1,\n",
    "    \"letters\":1,\n",
    "    \"emojis\":1,\n",
    "    \"dep_labels\":1,\n",
    "    \"morph_tags\":1,\n",
    "    \"sentences\":1,\n",
    "    \"num_tokens\":0\n",
    "}\n",
    "\n",
    "# example_sentences = [\n",
    "#     \"The quick brown 😂 fox jumps over the lazy dog.\",\n",
    "#     \"She sells seashells by the seashore.\",\n",
    "#     \"How much wood would a woodchuck chuck if a woodchuck could chuck wood?\",\n",
    "#     \"Peter Piper picked a peck of pickled peppers.\",\n",
    "#     \"A journey of a thousand miles begins with a single step.\",\n",
    "#     \"To be or not to be, that is the question.\",\n",
    "#     \"All that glitters is not gold.\",\n",
    "#     \"The early bird catches the worm.\",\n",
    "#     \"A picture is worth a thousand words.\",\n",
    "#     \"When in Rome, do as the Romans do.\",\n",
    "#     \"All Jimmy wants for Christmas is a brand new bicycle.\"\n",
    "# ]\n",
    "\n",
    "example_sentences = [\n",
    "    \"Все, что блестит, не золото.\",\n",
    "    \"Когда в Риме, делай, как римляне делают.\",\n",
    "    \"Для Джимми на Рождество нужен новый велосипед.\",\n",
    "    \"Он сказал, что не будет говорить с ней.\",\n",
    "    \"Причина проста – многие занимаются английским языком вне школы.\" # parataxis-rus\n",
    "]\n",
    "\n",
    "features = vectorizer.from_documents(example_sentences)\n",
    "features.to_csv(\"features.csv\", index=False)\n",
    "\n",
    "# df = vectorizer.from_jsonlines(\"data/pan22/preprocessed/\", config=config)\n",
    "# test_vector = df.select_dtypes(include=np.number).iloc[111]\n"
   ]
  },
  {
   "cell_type": "code",
   "execution_count": 3,
   "metadata": {},
   "outputs": [
    {
     "name": "stdout",
     "output_type": "stream",
     "text": [
      "Index(['pos_unigrams:ADJ', 'pos_unigrams:ADP', 'pos_unigrams:ADV',\n",
      "       'pos_unigrams:AUX', 'pos_unigrams:CCONJ', 'pos_unigrams:DET',\n",
      "       'pos_unigrams:INTJ', 'pos_unigrams:NOUN', 'pos_unigrams:NUM',\n",
      "       'pos_unigrams:PART',\n",
      "       ...\n",
      "       'morph_tags:VerbForm=Inf', 'morph_tags:VerbForm=Part',\n",
      "       'morph_tags:VerbType=Mod', 'sentences:passive_rus',\n",
      "       'sentences:parataxis_rus', 'sentences:participle_gerund_rus',\n",
      "       'sentences:conj_rus', 'sentences:nested_structure_rus',\n",
      "       'sentences:one_word_sent_rus', 'num_tokens:num_tokens'],\n",
      "      dtype='object', length=614)\n",
      "[[ 0.    0.    0.   ...  0.    0.    8.  ]\n",
      " [ 0.    0.1   0.   ...  0.    0.   10.  ]\n",
      " [ 0.25  0.25  0.   ...  0.    0.    8.  ]\n",
      " [ 0.    0.1   0.   ...  0.    0.   10.  ]\n",
      " [ 0.2   0.1   0.   ...  0.    0.   10.  ]]\n"
     ]
    }
   ],
   "source": [
    "print(features.columns)\n",
    "print(features.values)"
   ]
  }
 ],
 "metadata": {
  "kernelspec": {
   "display_name": "hiatus",
   "language": "python",
   "name": "python3"
  },
  "language_info": {
   "codemirror_mode": {
    "name": "ipython",
    "version": 3
   },
   "file_extension": ".py",
   "mimetype": "text/x-python",
   "name": "python",
   "nbconvert_exporter": "python",
   "pygments_lexer": "ipython3",
   "version": "3.11.0"
  }
 },
 "nbformat": 4,
 "nbformat_minor": 2
}
